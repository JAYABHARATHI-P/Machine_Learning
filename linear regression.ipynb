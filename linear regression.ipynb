{
 "cells": [
  {
   "cell_type": "code",
   "execution_count": 1,
   "id": "479129e9",
   "metadata": {},
   "outputs": [],
   "source": [
    "%matplotlib inline\n",
    "import numpy as np\n",
    "import pandas as pd\n",
    "import seaborn as sns\n",
    "sns.set(style='darkgrid')\n",
    "import matplotlib.pyplot as plt"
   ]
  },
  {
   "cell_type": "code",
   "execution_count": 4,
   "id": "17df01ca",
   "metadata": {},
   "outputs": [],
   "source": [
    "df = pd.read_csv('C:/Users/HARI/Downloads/sd.csv ')"
   ]
  },
  {
   "cell_type": "code",
   "execution_count": 5,
   "id": "0e832959",
   "metadata": {},
   "outputs": [
    {
     "name": "stdout",
     "output_type": "stream",
     "text": [
      "    YearsExperience  Salary\n",
      "0               1.1   39343\n",
      "1               1.3   46205\n",
      "2               1.5   37731\n",
      "3               2.0   43525\n",
      "4               2.2   39891\n",
      "5               2.9   56642\n",
      "6               3.0   60150\n",
      "7               3.2   54445\n",
      "8               3.2   64445\n",
      "9               3.7   57189\n",
      "10              3.9   63218\n",
      "11              4.0   55794\n",
      "12              4.0   56957\n",
      "13              4.1   57081\n",
      "14              4.5   61111\n",
      "15              4.9   67938\n",
      "16              5.1   66029\n",
      "17              5.3   83088\n",
      "18              5.9   81363\n",
      "19              6.0   93940\n",
      "20              6.8   91738\n",
      "21              7.1   98273\n",
      "22              7.9  101302\n",
      "23              8.2  113812\n",
      "24              8.7  109431\n",
      "25              9.0  105582\n",
      "26              9.5  116969\n",
      "27              9.6  112635\n",
      "28             10.3  122391\n",
      "29             10.5  121872\n"
     ]
    }
   ],
   "source": [
    "print(df)"
   ]
  },
  {
   "cell_type": "code",
   "execution_count": 8,
   "id": "61d6bf38",
   "metadata": {},
   "outputs": [
    {
     "data": {
      "text/plain": [
       "<AxesSubplot:>"
      ]
     },
     "execution_count": 8,
     "metadata": {},
     "output_type": "execute_result"
    },
    {
     "data": {
      "image/png": "[encoded data removed]",
      "text/plain": [
       "<Figure size 432x288 with 1 Axes>"
      ]
     },
     "metadata": {},
     "output_type": "display_data"
    }
   ],
   "source": [
    "df.Salary.plot()"
   ]
  },
  {
   "cell_type": "code",
   "execution_count": 7,
   "id": "a0b2dc31",
   "metadata": {},
   "outputs": [
    {
     "data": {
      "text/html": [
       "<div>\n",
       "<style scoped>\n",
       "    .dataframe tbody tr th:only-of-type {\n",
       "        vertical-align: middle;\n",
       "    }\n",
       "\n",
       "    .dataframe tbody tr th {\n",
       "        vertical-align: top;\n",
       "    }\n",
       "\n",
       "    .dataframe thead th {\n",
       "        text-align: right;\n",
       "    }\n",
       "</style>\n",
       "<table border=\"1\" class=\"dataframe\">\n",
       "  <thead>\n",
       "    <tr style=\"text-align: right;\">\n",
       "      <th></th>\n",
       "      <th>YearsExperience</th>\n",
       "      <th>Salary</th>\n",
       "    </tr>\n",
       "  </thead>\n",
       "  <tbody>\n",
       "    <tr>\n",
       "      <th>0</th>\n",
       "      <td>1.1</td>\n",
       "      <td>39343</td>\n",
       "    </tr>\n",
       "    <tr>\n",
       "      <th>1</th>\n",
       "      <td>1.3</td>\n",
       "      <td>46205</td>\n",
       "    </tr>\n",
       "    <tr>\n",
       "      <th>2</th>\n",
       "      <td>1.5</td>\n",
       "      <td>37731</td>\n",
       "    </tr>\n",
       "    <tr>\n",
       "      <th>3</th>\n",
       "      <td>2.0</td>\n",
       "      <td>43525</td>\n",
       "    </tr>\n",
       "    <tr>\n",
       "      <th>4</th>\n",
       "      <td>2.2</td>\n",
       "      <td>39891</td>\n",
       "    </tr>\n",
       "  </tbody>\n",
       "</table>\n",
       "</div>"
      ],
      "text/plain": [
       "   YearsExperience  Salary\n",
       "0              1.1   39343\n",
       "1              1.3   46205\n",
       "2              1.5   37731\n",
       "3              2.0   43525\n",
       "4              2.2   39891"
      ]
     },
     "execution_count": 7,
     "metadata": {},
     "output_type": "execute_result"
    }
   ],
   "source": [
    "df.head()"
   ]
  },
  {
   "cell_type": "code",
   "execution_count": 9,
   "id": "d9a1e5bd",
   "metadata": {},
   "outputs": [
    {
     "data": {
      "text/html": [
       "<div>\n",
       "<style scoped>\n",
       "    .dataframe tbody tr th:only-of-type {\n",
       "        vertical-align: middle;\n",
       "    }\n",
       "\n",
       "    .dataframe tbody tr th {\n",
       "        vertical-align: top;\n",
       "    }\n",
       "\n",
       "    .dataframe thead th {\n",
       "        text-align: right;\n",
       "    }\n",
       "</style>\n",
       "<table border=\"1\" class=\"dataframe\">\n",
       "  <thead>\n",
       "    <tr style=\"text-align: right;\">\n",
       "      <th></th>\n",
       "      <th>YearsExperience</th>\n",
       "      <th>Salary</th>\n",
       "    </tr>\n",
       "  </thead>\n",
       "  <tbody>\n",
       "    <tr>\n",
       "      <th>25</th>\n",
       "      <td>9.0</td>\n",
       "      <td>105582</td>\n",
       "    </tr>\n",
       "    <tr>\n",
       "      <th>26</th>\n",
       "      <td>9.5</td>\n",
       "      <td>116969</td>\n",
       "    </tr>\n",
       "    <tr>\n",
       "      <th>27</th>\n",
       "      <td>9.6</td>\n",
       "      <td>112635</td>\n",
       "    </tr>\n",
       "    <tr>\n",
       "      <th>28</th>\n",
       "      <td>10.3</td>\n",
       "      <td>122391</td>\n",
       "    </tr>\n",
       "    <tr>\n",
       "      <th>29</th>\n",
       "      <td>10.5</td>\n",
       "      <td>121872</td>\n",
       "    </tr>\n",
       "  </tbody>\n",
       "</table>\n",
       "</div>"
      ],
      "text/plain": [
       "    YearsExperience  Salary\n",
       "25              9.0  105582\n",
       "26              9.5  116969\n",
       "27              9.6  112635\n",
       "28             10.3  122391\n",
       "29             10.5  121872"
      ]
     },
     "execution_count": 9,
     "metadata": {},
     "output_type": "execute_result"
    }
   ],
   "source": [
    "df.tail()"
   ]
  },
  {
   "cell_type": "code",
   "execution_count": 12,
   "id": "229b3525",
   "metadata": {},
   "outputs": [
    {
     "data": {
      "image/png": "[encoded data removed]",
      "text/plain": [
       "<Figure size 1600x500 with 1 Axes>"
      ]
     },
     "metadata": {},
     "output_type": "display_data"
    }
   ],
   "source": [
    "# Draw Plot\n",
    "def plot_df(df, x, y, title=\"\", xlabel='Date', ylabel='Value', dpi=100):\n",
    "    plt.figure(figsize=(16,5), dpi=dpi)\n",
    "    plt.plot(x, y, color='tab:blue')\n",
    "    plt.gca().set(title=title, xlabel=xlabel, ylabel=ylabel)\n",
    "    plt.show()\n",
    "\n",
    "plot_df(df, x=df.YearsExperience, y=df.Salary, title='Time Series analysis')    "
   ]
  },
  {
   "cell_type": "code",
   "execution_count": 16,
   "id": "b15d92ce",
   "metadata": {},
   "outputs": [
    {
     "name": "stdout",
     "output_type": "stream",
     "text": [
      "<class 'pandas.core.frame.DataFrame'>\n",
      "RangeIndex: 30 entries, 0 to 29\n",
      "Data columns (total 2 columns):\n",
      " #   Column           Non-Null Count  Dtype  \n",
      "---  ------           --------------  -----  \n",
      " 0   YearsExperience  30 non-null     float64\n",
      " 1   Salary           30 non-null     int64  \n",
      "dtypes: float64(1), int64(1)\n",
      "memory usage: 608.0 bytes\n"
     ]
    }
   ],
   "source": [
    "df.info()"
   ]
  },
  {
   "cell_type": "code",
   "execution_count": 17,
   "id": "f88f7250",
   "metadata": {},
   "outputs": [
    {
     "data": {
      "text/html": [
       "<div>\n",
       "<style scoped>\n",
       "    .dataframe tbody tr th:only-of-type {\n",
       "        vertical-align: middle;\n",
       "    }\n",
       "\n",
       "    .dataframe tbody tr th {\n",
       "        vertical-align: top;\n",
       "    }\n",
       "\n",
       "    .dataframe thead th {\n",
       "        text-align: right;\n",
       "    }\n",
       "</style>\n",
       "<table border=\"1\" class=\"dataframe\">\n",
       "  <thead>\n",
       "    <tr style=\"text-align: right;\">\n",
       "      <th></th>\n",
       "      <th>YearsExperience</th>\n",
       "      <th>Salary</th>\n",
       "    </tr>\n",
       "  </thead>\n",
       "  <tbody>\n",
       "    <tr>\n",
       "      <th>count</th>\n",
       "      <td>30.000000</td>\n",
       "      <td>30.000000</td>\n",
       "    </tr>\n",
       "    <tr>\n",
       "      <th>mean</th>\n",
       "      <td>5.313333</td>\n",
       "      <td>76003.000000</td>\n",
       "    </tr>\n",
       "    <tr>\n",
       "      <th>std</th>\n",
       "      <td>2.837888</td>\n",
       "      <td>27414.429785</td>\n",
       "    </tr>\n",
       "    <tr>\n",
       "      <th>min</th>\n",
       "      <td>1.100000</td>\n",
       "      <td>37731.000000</td>\n",
       "    </tr>\n",
       "    <tr>\n",
       "      <th>25%</th>\n",
       "      <td>3.200000</td>\n",
       "      <td>56720.750000</td>\n",
       "    </tr>\n",
       "    <tr>\n",
       "      <th>50%</th>\n",
       "      <td>4.700000</td>\n",
       "      <td>65237.000000</td>\n",
       "    </tr>\n",
       "    <tr>\n",
       "      <th>75%</th>\n",
       "      <td>7.700000</td>\n",
       "      <td>100544.750000</td>\n",
       "    </tr>\n",
       "    <tr>\n",
       "      <th>max</th>\n",
       "      <td>10.500000</td>\n",
       "      <td>122391.000000</td>\n",
       "    </tr>\n",
       "  </tbody>\n",
       "</table>\n",
       "</div>"
      ],
      "text/plain": [
       "       YearsExperience         Salary\n",
       "count        30.000000      30.000000\n",
       "mean          5.313333   76003.000000\n",
       "std           2.837888   27414.429785\n",
       "min           1.100000   37731.000000\n",
       "25%           3.200000   56720.750000\n",
       "50%           4.700000   65237.000000\n",
       "75%           7.700000  100544.750000\n",
       "max          10.500000  122391.000000"
      ]
     },
     "execution_count": 17,
     "metadata": {},
     "output_type": "execute_result"
    }
   ],
   "source": [
    "df.describe()"
   ]
  },
  {
   "cell_type": "code",
   "execution_count": 18,
   "id": "fd4d0473",
   "metadata": {},
   "outputs": [
    {
     "data": {
      "text/plain": [
       "YearsExperience    float64\n",
       "Salary               int64\n",
       "dtype: object"
      ]
     },
     "execution_count": 18,
     "metadata": {},
     "output_type": "execute_result"
    }
   ],
   "source": [
    "df.dtypes"
   ]
  },
  {
   "cell_type": "code",
   "execution_count": 19,
   "id": "41448e57",
   "metadata": {},
   "outputs": [
    {
     "data": {
      "text/plain": [
       "YearsExperience    30\n",
       "Salary             30\n",
       "dtype: int64"
      ]
     },
     "execution_count": 19,
     "metadata": {},
     "output_type": "execute_result"
    }
   ],
   "source": [
    "df.count()"
   ]
  },
  {
   "cell_type": "code",
   "execution_count": 21,
   "id": "fbef9f55",
   "metadata": {},
   "outputs": [
    {
     "data": {
      "text/plain": [
       "YearsExperience    0\n",
       "Salary             0\n",
       "dtype: int64"
      ]
     },
     "execution_count": 21,
     "metadata": {},
     "output_type": "execute_result"
    }
   ],
   "source": [
    "df.isnull().sum()"
   ]
  },
  {
   "cell_type": "code",
   "execution_count": 22,
   "id": "eed090da",
   "metadata": {},
   "outputs": [
    {
     "data": {
      "text/html": [
       "<div>\n",
       "<style scoped>\n",
       "    .dataframe tbody tr th:only-of-type {\n",
       "        vertical-align: middle;\n",
       "    }\n",
       "\n",
       "    .dataframe tbody tr th {\n",
       "        vertical-align: top;\n",
       "    }\n",
       "\n",
       "    .dataframe thead th {\n",
       "        text-align: right;\n",
       "    }\n",
       "</style>\n",
       "<table border=\"1\" class=\"dataframe\">\n",
       "  <thead>\n",
       "    <tr style=\"text-align: right;\">\n",
       "      <th></th>\n",
       "      <th>YearsExperience</th>\n",
       "      <th>Salary</th>\n",
       "    </tr>\n",
       "  </thead>\n",
       "  <tbody>\n",
       "    <tr>\n",
       "      <th>count</th>\n",
       "      <td>30.000000</td>\n",
       "      <td>30.000000</td>\n",
       "    </tr>\n",
       "    <tr>\n",
       "      <th>mean</th>\n",
       "      <td>5.313333</td>\n",
       "      <td>76003.000000</td>\n",
       "    </tr>\n",
       "    <tr>\n",
       "      <th>std</th>\n",
       "      <td>2.837888</td>\n",
       "      <td>27414.429785</td>\n",
       "    </tr>\n",
       "    <tr>\n",
       "      <th>min</th>\n",
       "      <td>1.100000</td>\n",
       "      <td>37731.000000</td>\n",
       "    </tr>\n",
       "    <tr>\n",
       "      <th>25%</th>\n",
       "      <td>3.200000</td>\n",
       "      <td>56720.750000</td>\n",
       "    </tr>\n",
       "    <tr>\n",
       "      <th>50%</th>\n",
       "      <td>4.700000</td>\n",
       "      <td>65237.000000</td>\n",
       "    </tr>\n",
       "    <tr>\n",
       "      <th>75%</th>\n",
       "      <td>7.700000</td>\n",
       "      <td>100544.750000</td>\n",
       "    </tr>\n",
       "    <tr>\n",
       "      <th>max</th>\n",
       "      <td>10.500000</td>\n",
       "      <td>122391.000000</td>\n",
       "    </tr>\n",
       "  </tbody>\n",
       "</table>\n",
       "</div>"
      ],
      "text/plain": [
       "       YearsExperience         Salary\n",
       "count        30.000000      30.000000\n",
       "mean          5.313333   76003.000000\n",
       "std           2.837888   27414.429785\n",
       "min           1.100000   37731.000000\n",
       "25%           3.200000   56720.750000\n",
       "50%           4.700000   65237.000000\n",
       "75%           7.700000  100544.750000\n",
       "max          10.500000  122391.000000"
      ]
     },
     "execution_count": 22,
     "metadata": {},
     "output_type": "execute_result"
    }
   ],
   "source": [
    "df.describe(include = 'all')"
   ]
  },
  {
   "cell_type": "code",
   "execution_count": 23,
   "id": "bafc1a06",
   "metadata": {},
   "outputs": [
    {
     "data": {
      "text/plain": [
       "(30, 2)"
      ]
     },
     "execution_count": 23,
     "metadata": {},
     "output_type": "execute_result"
    }
   ],
   "source": [
    "df.shape"
   ]
  },
  {
   "cell_type": "code",
   "execution_count": 12,
   "id": "93cd90be",
   "metadata": {},
   "outputs": [
    {
     "data": {
      "text/plain": [
       "0     False\n",
       "1     False\n",
       "2     False\n",
       "3     False\n",
       "4     False\n",
       "5     False\n",
       "6     False\n",
       "7     False\n",
       "8     False\n",
       "9     False\n",
       "10    False\n",
       "11    False\n",
       "12    False\n",
       "13    False\n",
       "14    False\n",
       "15    False\n",
       "16    False\n",
       "17    False\n",
       "18    False\n",
       "19    False\n",
       "20    False\n",
       "21    False\n",
       "22    False\n",
       "23    False\n",
       "24    False\n",
       "25    False\n",
       "26    False\n",
       "27    False\n",
       "28    False\n",
       "29    False\n",
       "dtype: bool"
      ]
     },
     "execution_count": 12,
     "metadata": {},
     "output_type": "execute_result"
    }
   ],
   "source": [
    "df.duplicated()"
   ]
  },
  {
   "cell_type": "code",
   "execution_count": 16,
   "id": "f34378ff",
   "metadata": {},
   "outputs": [
    {
     "data": {
      "text/plain": [
       "<AxesSubplot:xlabel='Year'>"
      ]
     },
     "execution_count": 16,
     "metadata": {},
     "output_type": "execute_result"
    },
    {
     "data": {
      "image/png": "[encoded data removed]",
      "text/plain": [
       "<Figure size 432x288 with 1 Axes>"
      ]
     },
     "metadata": {},
     "output_type": "display_data"
    }
   ],
   "source": [
    "df.plot(x='Year',y='Sparkling',kind=\"line\")"
   ]
  },
  {
   "cell_type": "code",
   "execution_count": 6,
   "id": "956cfaed",
   "metadata": {
    "scrolled": true
   },
   "outputs": [
    {
     "data": {
      "text/plain": [
       "<AxesSubplot:>"
      ]
     },
     "execution_count": 6,
     "metadata": {},
     "output_type": "execute_result"
    },
    {
     "data": {
      "image/png": "[encoded data removed]",
      "text/plain": [
       "<Figure size 432x288 with 2 Axes>"
      ]
     },
     "metadata": {},
     "output_type": "display_data"
    }
   ],
   "source": [
    "sns.heatmap(df.corr(),color='k',annot=True)"
   ]
  },
  {
   "cell_type": "code",
   "execution_count": 7,
   "id": "ccd818e7",
   "metadata": {},
   "outputs": [
    {
     "data": {
      "text/plain": [
       "<seaborn.axisgrid.PairGrid at 0x144fd707f40>"
      ]
     },
     "execution_count": 7,
     "metadata": {},
     "output_type": "execute_result"
    },
    {
     "data": {
      "image/png": "[encoded data removed]",
      "text/plain": [
       "<Figure size 360x360 with 6 Axes>"
      ]
     },
     "metadata": {},
     "output_type": "display_data"
    }
   ],
   "source": [
    "sns.pairplot(df)"
   ]
  },
  {
   "cell_type": "code",
   "execution_count": 10,
   "id": "6793d71e",
   "metadata": {},
   "outputs": [
    {
     "data": {
      "text/plain": [
       "Text(0, 0.5, 'YearExperiences')"
      ]
     },
     "execution_count": 10,
     "metadata": {},
     "output_type": "execute_result"
    },
    {
     "data": {
      "image/png": "[encoded data removed]",
      "text/plain": [
       "<Figure size 432x288 with 1 Axes>"
      ]
     },
     "metadata": {},
     "output_type": "display_data"
    }
   ],
   "source": [
    "df.plot.box(label='Salary');plt.title('Predictioin');plt.ylabel('YearExperiences') "
   ]
  },
  {
   "cell_type": "code",
   "execution_count": 11,
   "id": "a549b816",
   "metadata": {},
   "outputs": [],
   "source": [
    "x= df.iloc[:, :-1].values  \n",
    "y= df.iloc[:, 1].values   "
   ]
  },
  {
   "cell_type": "code",
   "execution_count": 12,
   "id": "b8042788",
   "metadata": {},
   "outputs": [],
   "source": [
    "# Splitting the dataset into training and test set.  \n",
    "from sklearn.model_selection import train_test_split  \n",
    "x_train, x_test, y_train, y_test= train_test_split(x, y, test_size= 1/3, random_state=0)  "
   ]
  },
  {
   "cell_type": "code",
   "execution_count": 13,
   "id": "b4c27310",
   "metadata": {},
   "outputs": [
    {
     "data": {
      "text/plain": [
       "LinearRegression()"
      ]
     },
     "execution_count": 13,
     "metadata": {},
     "output_type": "execute_result"
    }
   ],
   "source": [
    "#Fitting the Simple Linear Regression model to the training dataset  \n",
    "from sklearn.linear_model import LinearRegression  \n",
    "regressor= LinearRegression()  \n",
    "regressor.fit(x_train, y_train)  "
   ]
  },
  {
   "cell_type": "code",
   "execution_count": 14,
   "id": "80f0314d",
   "metadata": {},
   "outputs": [],
   "source": [
    "#Prediction of Test and Training set result  \n",
    "y_pred= regressor.predict(x_test)  \n",
    "x_pred= regressor.predict(x_train)  "
   ]
  },
  {
   "cell_type": "code",
   "execution_count": 15,
   "id": "61578dba",
   "metadata": {},
   "outputs": [
    {
     "data": {
      "image/png": "[encoded data removed]",
      "text/plain": [
       "<Figure size 432x288 with 1 Axes>"
      ]
     },
     "metadata": {},
     "output_type": "display_data"
    }
   ],
   "source": [
    "import matplotlib.pyplot as mtp \n",
    "mtp.scatter(x_train, y_train, color=\"green\")   \n",
    "mtp.plot(x_train, x_pred, color=\"red\")    \n",
    "mtp.title(\"Salary vs Experience (Training Dataset)\")  \n",
    "mtp.xlabel(\"Years of Experience\")  \n",
    "mtp.ylabel(\"Salary(In Rupees)\")  \n",
    "mtp.show()   "
   ]
  },
  {
   "cell_type": "code",
   "execution_count": 17,
   "id": "827811ff",
   "metadata": {},
   "outputs": [
    {
     "data": {
      "image/png": "[encoded data removed]",
      "text/plain": [
       "<Figure size 432x288 with 1 Axes>"
      ]
     },
     "metadata": {},
     "output_type": "display_data"
    }
   ],
   "source": [
    "#visualizing the Test set results  \n",
    "mtp.scatter(x_test, y_test, color=\"blue\")   \n",
    "mtp.plot(x_train, x_pred, color=\"red\")    \n",
    "mtp.title(\"Salary vs Experience (Test Dataset)\")  \n",
    "mtp.xlabel(\"Years of Experience\")  \n",
    "mtp.ylabel(\"Salary(In Rupees)\")  \n",
    "mtp.show()  "
   ]
  },
  {
   "cell_type": "code",
   "execution_count": null,
   "id": "ef0550e5",
   "metadata": {},
   "outputs": [],
   "source": []
  },
  {
   "cell_type": "code",
   "execution_count": null,
   "id": "da216cd6",
   "metadata": {},
   "outputs": [],
   "source": []
  },
  {
   "cell_type": "code",
   "execution_count": null,
   "id": "59790fe5",
   "metadata": {},
   "outputs": [],
   "source": []
  },
  {
   "cell_type": "code",
   "execution_count": null,
   "id": "9f54991f",
   "metadata": {},
   "outputs": [],
   "source": []
  },
  {
   "cell_type": "code",
   "execution_count": 32,
   "id": "5ee88f5f",
   "metadata": {},
   "outputs": [],
   "source": [
    "import numpy.ma.mrecords as mrecords"
   ]
  },
  {
   "cell_type": "code",
   "execution_count": 45,
   "id": "c5581d0c",
   "metadata": {},
   "outputs": [
    {
     "data": {
      "text/plain": [
       "{'whiskers': [<matplotlib.lines.Line2D at 0x2b43889a790>,\n",
       "  <matplotlib.lines.Line2D at 0x2b43889aa60>,\n",
       "  <matplotlib.lines.Line2D at 0x2b4388a8a60>,\n",
       "  <matplotlib.lines.Line2D at 0x2b4388a8d30>,\n",
       "  <matplotlib.lines.Line2D at 0x2b4388b5e50>,\n",
       "  <matplotlib.lines.Line2D at 0x2b4388bf160>,\n",
       "  <matplotlib.lines.Line2D at 0x2b4388ce280>,\n",
       "  <matplotlib.lines.Line2D at 0x2b4388ce550>,\n",
       "  <matplotlib.lines.Line2D at 0x2b4388da670>,\n",
       "  <matplotlib.lines.Line2D at 0x2b4388da940>,\n",
       "  <matplotlib.lines.Line2D at 0x2b4388e6a60>,\n",
       "  <matplotlib.lines.Line2D at 0x2b4388e6d30>,\n",
       "  <matplotlib.lines.Line2D at 0x2b4388f6e50>,\n",
       "  <matplotlib.lines.Line2D at 0x2b438901160>,\n",
       "  <matplotlib.lines.Line2D at 0x2b43890d1f0>,\n",
       "  <matplotlib.lines.Line2D at 0x2b43890d4c0>,\n",
       "  <matplotlib.lines.Line2D at 0x2b43891b5e0>,\n",
       "  <matplotlib.lines.Line2D at 0x2b43891b8b0>,\n",
       "  <matplotlib.lines.Line2D at 0x2b4389289d0>,\n",
       "  <matplotlib.lines.Line2D at 0x2b438928ca0>,\n",
       "  <matplotlib.lines.Line2D at 0x2b438934dc0>,\n",
       "  <matplotlib.lines.Line2D at 0x2b4389410d0>,\n",
       "  <matplotlib.lines.Line2D at 0x2b43894f1f0>,\n",
       "  <matplotlib.lines.Line2D at 0x2b43894f4c0>,\n",
       "  <matplotlib.lines.Line2D at 0x2b43895b5e0>,\n",
       "  <matplotlib.lines.Line2D at 0x2b43895b8b0>,\n",
       "  <matplotlib.lines.Line2D at 0x2b4389679d0>,\n",
       "  <matplotlib.lines.Line2D at 0x2b438967ca0>,\n",
       "  <matplotlib.lines.Line2D at 0x2b438974dc0>,\n",
       "  <matplotlib.lines.Line2D at 0x2b4389830d0>],\n",
       " 'caps': [<matplotlib.lines.Line2D at 0x2b43889ac10>,\n",
       "  <matplotlib.lines.Line2D at 0x2b43889aee0>,\n",
       "  <matplotlib.lines.Line2D at 0x2b4388b5040>,\n",
       "  <matplotlib.lines.Line2D at 0x2b4388b5310>,\n",
       "  <matplotlib.lines.Line2D at 0x2b4388bf430>,\n",
       "  <matplotlib.lines.Line2D at 0x2b4388bf700>,\n",
       "  <matplotlib.lines.Line2D at 0x2b4388ce820>,\n",
       "  <matplotlib.lines.Line2D at 0x2b4388ceaf0>,\n",
       "  <matplotlib.lines.Line2D at 0x2b4388dac10>,\n",
       "  <matplotlib.lines.Line2D at 0x2b4388daee0>,\n",
       "  <matplotlib.lines.Line2D at 0x2b4388f6040>,\n",
       "  <matplotlib.lines.Line2D at 0x2b4388f6310>,\n",
       "  <matplotlib.lines.Line2D at 0x2b438901430>,\n",
       "  <matplotlib.lines.Line2D at 0x2b438901700>,\n",
       "  <matplotlib.lines.Line2D at 0x2b43890d790>,\n",
       "  <matplotlib.lines.Line2D at 0x2b43890da60>,\n",
       "  <matplotlib.lines.Line2D at 0x2b43891bb80>,\n",
       "  <matplotlib.lines.Line2D at 0x2b43891be50>,\n",
       "  <matplotlib.lines.Line2D at 0x2b438928f70>,\n",
       "  <matplotlib.lines.Line2D at 0x2b438934280>,\n",
       "  <matplotlib.lines.Line2D at 0x2b4389413a0>,\n",
       "  <matplotlib.lines.Line2D at 0x2b438941670>,\n",
       "  <matplotlib.lines.Line2D at 0x2b43894f790>,\n",
       "  <matplotlib.lines.Line2D at 0x2b43894fa60>,\n",
       "  <matplotlib.lines.Line2D at 0x2b43895bb80>,\n",
       "  <matplotlib.lines.Line2D at 0x2b43895be50>,\n",
       "  <matplotlib.lines.Line2D at 0x2b438967f70>,\n",
       "  <matplotlib.lines.Line2D at 0x2b438974280>,\n",
       "  <matplotlib.lines.Line2D at 0x2b4389833a0>,\n",
       "  <matplotlib.lines.Line2D at 0x2b438983670>],\n",
       " 'boxes': [<matplotlib.lines.Line2D at 0x2b43889a4c0>,\n",
       "  <matplotlib.lines.Line2D at 0x2b4388a8790>,\n",
       "  <matplotlib.lines.Line2D at 0x2b4388b5b80>,\n",
       "  <matplotlib.lines.Line2D at 0x2b4388bff70>,\n",
       "  <matplotlib.lines.Line2D at 0x2b4388da3a0>,\n",
       "  <matplotlib.lines.Line2D at 0x2b4388e6790>,\n",
       "  <matplotlib.lines.Line2D at 0x2b4388f6b80>,\n",
       "  <matplotlib.lines.Line2D at 0x2b438901ee0>,\n",
       "  <matplotlib.lines.Line2D at 0x2b43891b310>,\n",
       "  <matplotlib.lines.Line2D at 0x2b438928700>,\n",
       "  <matplotlib.lines.Line2D at 0x2b438934af0>,\n",
       "  <matplotlib.lines.Line2D at 0x2b438941ee0>,\n",
       "  <matplotlib.lines.Line2D at 0x2b43895b310>,\n",
       "  <matplotlib.lines.Line2D at 0x2b438967700>,\n",
       "  <matplotlib.lines.Line2D at 0x2b438974af0>],\n",
       " 'medians': [<matplotlib.lines.Line2D at 0x2b4388a81f0>,\n",
       "  <matplotlib.lines.Line2D at 0x2b4388b55e0>,\n",
       "  <matplotlib.lines.Line2D at 0x2b4388bf9d0>,\n",
       "  <matplotlib.lines.Line2D at 0x2b4388cedc0>,\n",
       "  <matplotlib.lines.Line2D at 0x2b4388e61f0>,\n",
       "  <matplotlib.lines.Line2D at 0x2b4388f65e0>,\n",
       "  <matplotlib.lines.Line2D at 0x2b438901940>,\n",
       "  <matplotlib.lines.Line2D at 0x2b43890dd30>,\n",
       "  <matplotlib.lines.Line2D at 0x2b438928160>,\n",
       "  <matplotlib.lines.Line2D at 0x2b438934550>,\n",
       "  <matplotlib.lines.Line2D at 0x2b438941940>,\n",
       "  <matplotlib.lines.Line2D at 0x2b43894fd30>,\n",
       "  <matplotlib.lines.Line2D at 0x2b438967160>,\n",
       "  <matplotlib.lines.Line2D at 0x2b438974550>,\n",
       "  <matplotlib.lines.Line2D at 0x2b438983940>],\n",
       " 'fliers': [],\n",
       " 'means': [<matplotlib.lines.Line2D at 0x2b4388a84c0>,\n",
       "  <matplotlib.lines.Line2D at 0x2b4388b58b0>,\n",
       "  <matplotlib.lines.Line2D at 0x2b4388bfca0>,\n",
       "  <matplotlib.lines.Line2D at 0x2b4388da0d0>,\n",
       "  <matplotlib.lines.Line2D at 0x2b4388e64c0>,\n",
       "  <matplotlib.lines.Line2D at 0x2b4388f68b0>,\n",
       "  <matplotlib.lines.Line2D at 0x2b438901c10>,\n",
       "  <matplotlib.lines.Line2D at 0x2b43891b040>,\n",
       "  <matplotlib.lines.Line2D at 0x2b438928430>,\n",
       "  <matplotlib.lines.Line2D at 0x2b438934820>,\n",
       "  <matplotlib.lines.Line2D at 0x2b438941c10>,\n",
       "  <matplotlib.lines.Line2D at 0x2b43895b040>,\n",
       "  <matplotlib.lines.Line2D at 0x2b438967430>,\n",
       "  <matplotlib.lines.Line2D at 0x2b438974820>,\n",
       "  <matplotlib.lines.Line2D at 0x2b438983c10>]}"
      ]
     },
     "execution_count": 45,
     "metadata": {},
     "output_type": "execute_result"
    },
    {
     "data": {
      "image/png": "[encoded data removed]",
      "text/plain": [
       "<Figure size 432x288 with 1 Axes>"
      ]
     },
     "metadata": {},
     "output_type": "display_data"
    }
   ],
   "source": [
    "dicts={\"1980\":[1686,1591,\n",
    "2304,\n",
    "1712,\n",
    "1471,\n",
    "1377,\n",
    "1966,\n",
    "2453,\n",
    "1984,\n",
    "2596,\n",
    "4087,\n",
    "5179\n",
    "],\n",
    "      \"1981\":[1530,\n",
    "1523,\n",
    "1633,\n",
    "1976,\n",
    "1170,\n",
    "1480,\n",
    "1781,\n",
    "2472,\n",
    "1981,\n",
    "2273,\n",
    "3857,\n",
    "4551\n",
    "],\n",
    "      \"1982\":[1510,\n",
    "1329,\n",
    "1518,\n",
    "1790,\n",
    "1537,\n",
    "1449,\n",
    "1954,\n",
    "1897,\n",
    "1706,\n",
    "2514,\n",
    "3593,\n",
    "4524\n",
    "],\n",
    "      \"1983\":[1609,\n",
    "1638,\n",
    "2030,\n",
    "1375,\n",
    "1320,\n",
    "1245,\n",
    "1600,\n",
    "2298,\n",
    "2191,\n",
    "2511,\n",
    "3440,\n",
    "4923\n",
    "],\"1984\":[1609,\n",
    "1435,\n",
    "2061,\n",
    "1789,\n",
    "1567,\n",
    "1404,\n",
    "1597,\n",
    "3159,\n",
    "1759,\n",
    "2504,\n",
    "4273,\n",
    "5274\n",
    "],\"1985\":[1771,\n",
    "1682,\n",
    "1846,\n",
    "1589,\n",
    "1896,\n",
    "1379,\n",
    "1645,\n",
    "2512,\n",
    "1771,\n",
    "3727,\n",
    "4388,\n",
    "5434\n",
    "],\"1986\":[1606,\n",
    "1523,\n",
    "1577,\n",
    "1605,\n",
    "1765,\n",
    "1403,\n",
    "2584,\n",
    "3318,\n",
    "1562,\n",
    "2349,\n",
    "3987,\n",
    "5891\n",
    "],\"1987\":[1389,\n",
    "1442,\n",
    "1548,\n",
    "1935,\n",
    "1518,\n",
    "1250,\n",
    "1847,\n",
    "1930,\n",
    "2638,\n",
    "3114,\n",
    "4405,\n",
    "7242\n",
    "],\"1988\":[1853,\n",
    "1779,\n",
    "2108,\n",
    "2336,\n",
    "1728,\n",
    "1661,\n",
    "2230,\n",
    "1645,\n",
    "2421,\n",
    "3740,\n",
    "4988,\n",
    "6757\n",
    "],\"1989\":[1757,\n",
    "1394,\n",
    "1982,\n",
    "1650,\n",
    "1654,\n",
    "1406,\n",
    "1971,\n",
    "1968,\n",
    "2608,\n",
    "3845,\n",
    "4514,\n",
    "6694\n",
    "],\"1990\":[1720,\n",
    "1321,\n",
    "1859,\n",
    "1628,\n",
    "1615,\n",
    "1457,\n",
    "1899,\n",
    "1605,\n",
    "2424,\n",
    "3116,\n",
    "4286,\n",
    "6047\n",
    "],\"1991\":[1902,\n",
    "2049,\n",
    "1874,\n",
    "1279,\n",
    "1432,\n",
    "1540,\n",
    "2214,\n",
    "1857,\n",
    "2408,\n",
    "3252,\n",
    "3627,\n",
    "6153\n",
    "],\"1992\":[1577,\n",
    "1667,\n",
    "1993,\n",
    "1997,\n",
    "1783,\n",
    "1625,\n",
    "2076,\n",
    "1773,\n",
    "2377,\n",
    "3088,\n",
    "4096,\n",
    "6119\n",
    "],\"1993\":[1494,\n",
    "1564,\n",
    "1898,\n",
    "2121,\n",
    "1831,\n",
    "1515,\n",
    "2048,\n",
    "2795,\n",
    "1749,\n",
    "3339,\n",
    "4227,\n",
    "6410\n",
    "],\"1994\":[1197,\n",
    "1968,\n",
    "1720,\n",
    "1725,\n",
    "1674,\n",
    "1693,\n",
    "2031,\n",
    "1495,\n",
    "2968,\n",
    "3385,\n",
    "3729,\n",
    "5999\n",
    "]\n",
    "}\n",
    "cards=pd.DataFrame(dicts)\n",
    "plt.boxplot(cards[['1980','1981','1982','1983','1984','1985','1986','1987','1988','1989','1990','1991','1992','1993','1994']],sym='',showmeans=True,meanline=True,labels=['1980','1981','1982','1983','1984','1985','1986','1987','1988','1989','1990','1991','1992','1993','1994'])"
   ]
  },
  {
   "cell_type": "code",
   "execution_count": 69,
   "id": "501fdf8b",
   "metadata": {},
   "outputs": [],
   "source": [
    "from statsmodels.tsa.api import ExponentialSmoothing, SimpleExpSmoothing, Holt"
   ]
  },
  {
   "cell_type": "code",
   "execution_count": 26,
   "id": "c5e29007",
   "metadata": {
    "scrolled": true
   },
   "outputs": [
    {
     "name": "stderr",
     "output_type": "stream",
     "text": [
      "E:\\anaconda\\lib\\site-packages\\statsmodels\\tsa\\holtwinters\\model.py:915: ConvergenceWarning: Optimization failed to converge. Check mle_retvals.\n",
      "  warnings.warn(\n",
      "E:\\anaconda\\lib\\site-packages\\statsmodels\\tsa\\holtwinters\\model.py:915: ConvergenceWarning: Optimization failed to converge. Check mle_retvals.\n",
      "  warnings.warn(\n"
     ]
    },
    {
     "data": {
      "image/png": "[encoded data removed]",
      "text/plain": [
       "<Figure size 432x288 with 1 Axes>"
      ]
     },
     "metadata": {},
     "output_type": "display_data"
    }
   ],
   "source": [
    "# Applying Holt's Winters Seasonal Exponential model on Sparkling Count\n",
    "fit1 = ExponentialSmoothing(spark_train['Sparkling'], seasonal_periods=4, trend='add', seasonal='add').fit()\n",
    "fit2 = ExponentialSmoothing(spark_train['Sparkling'], seasonal_periods=4, trend='add', seasonal='mul').fit()\n",
    "ax = spark_train['Sparkling'].plot(marker='o', color='black' )\n",
    "ax.set_ylabel(\"Sparkling Count\")\n",
    "fit1.fittedvalues.plot(ax=ax, style='--', color='red')\n",
    "fit2.fittedvalues.plot(ax=ax, style='--', color='green')\n",
    "\n",
    "fit1d=fit1.forecast(52).rename('Holt-Winters (add-add-seasonal)')\n",
    "fit2d=fit2.forecast(52).rename('Holt-Winters (add-mul-seasonal)')\n",
    "fit1d.plot(ax=ax, style='--', marker='o', color='red', legend=True)\n",
    "fit2d.plot(ax=ax, style='--', marker='o', color='green', legend=True)\n",
    "plt.show()"
   ]
  },
  {
   "cell_type": "code",
   "execution_count": 73,
   "id": "3698b99d",
   "metadata": {},
   "outputs": [
    {
     "name": "stderr",
     "output_type": "stream",
     "text": [
      "E:\\anaconda\\lib\\site-packages\\statsmodels\\tsa\\holtwinters\\model.py:915: ConvergenceWarning: Optimization failed to converge. Check mle_retvals.\n",
      "  warnings.warn(\n",
      "E:\\anaconda\\lib\\site-packages\\statsmodels\\tsa\\holtwinters\\model.py:915: ConvergenceWarning: Optimization failed to converge. Check mle_retvals.\n",
      "  warnings.warn(\n"
     ]
    },
    {
     "data": {
      "text/plain": [
       "<AxesSubplot:title={'center':'Holt Winters grapg: Additive Trend and Multiplicative Trend'}>"
      ]
     },
     "execution_count": 73,
     "metadata": {},
     "output_type": "execute_result"
    },
    {
     "data": {
      "image/png": "[encoded data removed]",
      "text/plain": [
       "<Figure size 432x288 with 1 Axes>"
      ]
     },
     "metadata": {},
     "output_type": "display_data"
    }
   ],
   "source": [
    "df['YearMonth'] = ExponentialSmoothing(df['YearMonth'],trend='add').fit().fittedvalues\n",
    "df['YearMonth'] = ExponentialSmoothing(df['YearMonth'],trend='mul').fit().fittedvalues\n",
    "df[['YearMonth','Sparkling']].plot(title='Holt Winters grapg: Additive Trend and Multiplicative Trend')"
   ]
  },
  {
   "cell_type": "code",
   "execution_count": 71,
   "id": "a53dc80a",
   "metadata": {},
   "outputs": [
    {
     "data": {
      "text/plain": [
       "(187, 2)"
      ]
     },
     "execution_count": 71,
     "metadata": {},
     "output_type": "execute_result"
    }
   ],
   "source": [
    "df.shape"
   ]
  },
  {
   "cell_type": "code",
   "execution_count": 48,
   "id": "a7ef5bb5",
   "metadata": {
    "scrolled": true
   },
   "outputs": [
    {
     "data": {
      "text/plain": [
       "<AxesSubplot:>"
      ]
     },
     "execution_count": 48,
     "metadata": {},
     "output_type": "execute_result"
    },
    {
     "data": {
      "image/png": "[encoded data removed]",
      "text/plain": [
       "<Figure size 1080x360 with 1 Axes>"
      ]
     },
     "metadata": {},
     "output_type": "display_data"
    }
   ],
   "source": [
    "df[['YearMonth', 'Sparkling']].plot(figsize = (15, 5), alpha = 0.5)"
   ]
  },
  {
   "cell_type": "code",
   "execution_count": 38,
   "id": "6ba80fe8",
   "metadata": {},
   "outputs": [
    {
     "data": {
      "text/plain": [
       "YearMonth    0\n",
       "Sparkling    0\n",
       "dtype: int64"
      ]
     },
     "execution_count": 38,
     "metadata": {},
     "output_type": "execute_result"
    }
   ],
   "source": [
    "df.isnull().sum()"
   ]
  },
  {
   "cell_type": "code",
   "execution_count": 39,
   "id": "0684c274",
   "metadata": {},
   "outputs": [
    {
     "name": "stdout",
     "output_type": "stream",
     "text": [
      "The names of the features :\n",
      " ['YearMonth', 'Sparkling']\n"
     ]
    }
   ],
   "source": [
    "# The names of the features\n",
    "print(\"The names of the features :\\n\", list(df.columns))"
   ]
  },
  {
   "cell_type": "code",
   "execution_count": 40,
   "id": "9a595bfc",
   "metadata": {},
   "outputs": [
    {
     "data": {
      "text/plain": [
       "0      1686\n",
       "1      1591\n",
       "2      2304\n",
       "3      1712\n",
       "4      1471\n",
       "       ... \n",
       "182    1897\n",
       "183    1862\n",
       "184    1670\n",
       "185    1688\n",
       "186    2031\n",
       "Name: Sparkling, Length: 187, dtype: int64"
      ]
     },
     "execution_count": 40,
     "metadata": {},
     "output_type": "execute_result"
    }
   ],
   "source": [
    "df['Sparkling']"
   ]
  },
  {
   "cell_type": "code",
   "execution_count": 41,
   "id": "bbe1a3f6",
   "metadata": {},
   "outputs": [
    {
     "data": {
      "text/plain": [
       "[1523, 1771, 1720, 1577, 1605, 1645, 1968, 1897, 1609, 2031]"
      ]
     },
     "execution_count": 41,
     "metadata": {},
     "output_type": "execute_result"
    }
   ],
   "source": [
    "n=10\n",
    "df['Sparkling'].value_counts()[:n].index.tolist()"
   ]
  },
  {
   "cell_type": "code",
   "execution_count": 42,
   "id": "3089053b",
   "metadata": {},
   "outputs": [],
   "source": [
    "lst = [1523, 1771, 1720, 1577, 1605, 1645, 1968, 1897, 1609, 2031]\n",
    "df['Sparkling'].fillna(np.random.choice(lst), inplace=True)"
   ]
  },
  {
   "cell_type": "code",
   "execution_count": 43,
   "id": "e6008d68",
   "metadata": {},
   "outputs": [
    {
     "data": {
      "text/plain": [
       "YearMonth    0\n",
       "Sparkling    0\n",
       "dtype: int64"
      ]
     },
     "execution_count": 43,
     "metadata": {},
     "output_type": "execute_result"
    }
   ],
   "source": [
    "df.isnull().sum()"
   ]
  },
  {
   "cell_type": "code",
   "execution_count": 44,
   "id": "aabd98b3",
   "metadata": {},
   "outputs": [
    {
     "data": {
      "text/plain": [
       "315532800000000000    1\n",
       "652147200000000000    1\n",
       "628473600000000000    1\n",
       "631152000000000000    1\n",
       "633830400000000000    1\n",
       "                     ..\n",
       "483753600000000000    1\n",
       "486432000000000000    1\n",
       "489024000000000000    1\n",
       "491702400000000000    1\n",
       "804556800000000000    1\n",
       "Name: YearMonth, Length: 187, dtype: int64"
      ]
     },
     "execution_count": 44,
     "metadata": {},
     "output_type": "execute_result"
    }
   ],
   "source": [
    "df['YearMonth'].value_counts()"
   ]
  },
  {
   "cell_type": "code",
   "execution_count": 47,
   "id": "5b9e16a2",
   "metadata": {},
   "outputs": [],
   "source": [
    "lst2 = [3155328000000000001,\n",
    "6521472000000000001,\n",
    "6284736000000000001,\n",
    "6311520000000000001,\n",
    "6338304000000000001,\n",
    "4837536000000000001,\n",
    "4864320000000000001,\n",
    "4890240000000000001,\n",
    "4917024000000000001,\n",
    "8045568000000000001]\n",
    "df['YearMonth'].fillna(np.random.choice(lst2), inplace=True)"
   ]
  },
  {
   "cell_type": "code",
   "execution_count": 48,
   "id": "0b666e94",
   "metadata": {},
   "outputs": [
    {
     "data": {
      "text/plain": [
       "YearMonth    0\n",
       "Sparkling    0\n",
       "dtype: int64"
      ]
     },
     "execution_count": 48,
     "metadata": {},
     "output_type": "execute_result"
    }
   ],
   "source": [
    "df.isnull().sum()"
   ]
  },
  {
   "cell_type": "code",
   "execution_count": 49,
   "id": "d9ddad6f",
   "metadata": {},
   "outputs": [
    {
     "name": "stdout",
     "output_type": "stream",
     "text": [
      "number of duplicate rows:  (0, 2)\n"
     ]
    }
   ],
   "source": [
    "duplicate_rows_df = df[df.duplicated()]\n",
    "print(\"number of duplicate rows: \", duplicate_rows_df.shape)"
   ]
  },
  {
   "cell_type": "code",
   "execution_count": 50,
   "id": "46e0bdfd",
   "metadata": {},
   "outputs": [
    {
     "data": {
      "text/html": [
       "<div>\n",
       "<style scoped>\n",
       "    .dataframe tbody tr th:only-of-type {\n",
       "        vertical-align: middle;\n",
       "    }\n",
       "\n",
       "    .dataframe tbody tr th {\n",
       "        vertical-align: top;\n",
       "    }\n",
       "\n",
       "    .dataframe thead th {\n",
       "        text-align: right;\n",
       "    }\n",
       "</style>\n",
       "<table border=\"1\" class=\"dataframe\">\n",
       "  <thead>\n",
       "    <tr style=\"text-align: right;\">\n",
       "      <th></th>\n",
       "      <th>YearMonth</th>\n",
       "      <th>Sparkling</th>\n",
       "    </tr>\n",
       "  </thead>\n",
       "  <tbody>\n",
       "    <tr>\n",
       "      <th>0</th>\n",
       "      <td>315532800000000000</td>\n",
       "      <td>1686</td>\n",
       "    </tr>\n",
       "    <tr>\n",
       "      <th>1</th>\n",
       "      <td>318211200000000000</td>\n",
       "      <td>1591</td>\n",
       "    </tr>\n",
       "    <tr>\n",
       "      <th>2</th>\n",
       "      <td>320716800000000000</td>\n",
       "      <td>2304</td>\n",
       "    </tr>\n",
       "    <tr>\n",
       "      <th>3</th>\n",
       "      <td>323395200000000000</td>\n",
       "      <td>1712</td>\n",
       "    </tr>\n",
       "    <tr>\n",
       "      <th>4</th>\n",
       "      <td>325987200000000000</td>\n",
       "      <td>1471</td>\n",
       "    </tr>\n",
       "  </tbody>\n",
       "</table>\n",
       "</div>"
      ],
      "text/plain": [
       "            YearMonth  Sparkling\n",
       "0  315532800000000000       1686\n",
       "1  318211200000000000       1591\n",
       "2  320716800000000000       2304\n",
       "3  323395200000000000       1712\n",
       "4  325987200000000000       1471"
      ]
     },
     "execution_count": 50,
     "metadata": {},
     "output_type": "execute_result"
    }
   ],
   "source": [
    "df = df.drop_duplicates()\n",
    "df.head()"
   ]
  },
  {
   "cell_type": "code",
   "execution_count": 52,
   "id": "9eab1ca4",
   "metadata": {},
   "outputs": [],
   "source": [
    "df['YearMonth'] = pd.to_numeric(df['YearMonth'])"
   ]
  },
  {
   "cell_type": "code",
   "execution_count": 63,
   "id": "d7315fb2",
   "metadata": {},
   "outputs": [],
   "source": [
    "#Decomposition Process\n",
    "from statsmodels.tsa.seasonal import seasonal_decompose"
   ]
  },
  {
   "cell_type": "code",
   "execution_count": 64,
   "id": "3f58cf46",
   "metadata": {},
   "outputs": [
    {
     "name": "stdout",
     "output_type": "stream",
     "text": [
      "YearMonth    int64\n",
      "Sparkling    int64\n",
      "dtype: object\n"
     ]
    }
   ],
   "source": [
    "print(df.dtypes)"
   ]
  },
  {
   "cell_type": "code",
   "execution_count": 66,
   "id": "26e8d746",
   "metadata": {},
   "outputs": [
    {
     "data": {
      "image/png": "[encoded data removed]",
      "text/plain": [
       "<Figure size 432x288 with 4 Axes>"
      ]
     },
     "metadata": {},
     "output_type": "display_data"
    }
   ],
   "source": [
    "decomposition=seasonal_decompose(df.YearMonth,model='additive',extrapolate_trend='freq', period=1)\n",
    "decomposition.plot();"
   ]
  },
  {
   "cell_type": "code",
   "execution_count": 67,
   "id": "a1385c3f",
   "metadata": {},
   "outputs": [
    {
     "data": {
      "image/png": "[encoded data removed]",
      "text/plain": [
       "<Figure size 432x288 with 4 Axes>"
      ]
     },
     "metadata": {},
     "output_type": "display_data"
    }
   ],
   "source": [
    "decomposition=seasonal_decompose(df.YearMonth,model='Multiplicative',extrapolate_trend='freq', period=1)\n",
    "decomposition.plot();"
   ]
  },
  {
   "cell_type": "code",
   "execution_count": 77,
   "id": "2be86170",
   "metadata": {},
   "outputs": [],
   "source": [
    "from sklearn.metrics import mean_squared_error\n",
    "import math"
   ]
  },
  {
   "cell_type": "code",
   "execution_count": 87,
   "id": "ba925505",
   "metadata": {},
   "outputs": [
    {
     "name": "stdout",
     "output_type": "stream",
     "text": [
      "Root Mean Square Error:\n",
      "\n",
      "1343.0514882162931\n"
     ]
    }
   ],
   "source": [
    "y_actual = [1523, 1771, 1720, 1577, 1605, 1645, 1968, 1897, 1609, 2031]\n",
    "y_predicted = [2304,1712,1471,1377,1966,2453,1984,2596,4087,5179]\n",
    " \n",
    "MSE = mean_squared_error(y_actual, y_predicted)\n",
    " \n",
    "RMSE = math.sqrt(MSE)\n",
    "print(\"Root Mean Square Error:\\n\")\n",
    "print(RMSE)"
   ]
  },
  {
   "cell_type": "code",
   "execution_count": 92,
   "id": "0291c185",
   "metadata": {},
   "outputs": [],
   "source": [
    "from sklearn.preprocessing import LabelEncoder\n",
    "  \n",
    "label_encoder = LabelEncoder()\n",
    "  \n",
    "df['YearMonth']= label_encoder.fit_transform(df['YearMonth'])\n",
    "df['Sparkling']= label_encoder.fit_transform(df['Sparkling'])"
   ]
  },
  {
   "cell_type": "code",
   "execution_count": 94,
   "id": "411bb97c",
   "metadata": {},
   "outputs": [],
   "source": [
    "Y = df['YearMonth']\n",
    "X = pd.get_dummies(df.drop('YearMonth', axis=1))"
   ]
  },
  {
   "cell_type": "code",
   "execution_count": 95,
   "id": "5d24e673",
   "metadata": {},
   "outputs": [
    {
     "data": {
      "text/html": [
       "<div>\n",
       "<style scoped>\n",
       "    .dataframe tbody tr th:only-of-type {\n",
       "        vertical-align: middle;\n",
       "    }\n",
       "\n",
       "    .dataframe tbody tr th {\n",
       "        vertical-align: top;\n",
       "    }\n",
       "\n",
       "    .dataframe thead th {\n",
       "        text-align: right;\n",
       "    }\n",
       "</style>\n",
       "<table border=\"1\" class=\"dataframe\">\n",
       "  <thead>\n",
       "    <tr style=\"text-align: right;\">\n",
       "      <th></th>\n",
       "      <th>Sparkling</th>\n",
       "    </tr>\n",
       "  </thead>\n",
       "  <tbody>\n",
       "    <tr>\n",
       "      <th>0</th>\n",
       "      <td>59</td>\n",
       "    </tr>\n",
       "    <tr>\n",
       "      <th>1</th>\n",
       "      <td>40</td>\n",
       "    </tr>\n",
       "    <tr>\n",
       "      <th>2</th>\n",
       "      <td>116</td>\n",
       "    </tr>\n",
       "    <tr>\n",
       "      <th>3</th>\n",
       "      <td>63</td>\n",
       "    </tr>\n",
       "    <tr>\n",
       "      <th>4</th>\n",
       "      <td>23</td>\n",
       "    </tr>\n",
       "    <tr>\n",
       "      <th>...</th>\n",
       "      <td>...</td>\n",
       "    </tr>\n",
       "    <tr>\n",
       "      <th>182</th>\n",
       "      <td>87</td>\n",
       "    </tr>\n",
       "    <tr>\n",
       "      <th>183</th>\n",
       "      <td>84</td>\n",
       "    </tr>\n",
       "    <tr>\n",
       "      <th>184</th>\n",
       "      <td>56</td>\n",
       "    </tr>\n",
       "    <tr>\n",
       "      <th>185</th>\n",
       "      <td>60</td>\n",
       "    </tr>\n",
       "    <tr>\n",
       "      <th>186</th>\n",
       "      <td>104</td>\n",
       "    </tr>\n",
       "  </tbody>\n",
       "</table>\n",
       "<p>187 rows × 1 columns</p>\n",
       "</div>"
      ],
      "text/plain": [
       "     Sparkling\n",
       "0           59\n",
       "1           40\n",
       "2          116\n",
       "3           63\n",
       "4           23\n",
       "..         ...\n",
       "182         87\n",
       "183         84\n",
       "184         56\n",
       "185         60\n",
       "186        104\n",
       "\n",
       "[187 rows x 1 columns]"
      ]
     },
     "execution_count": 95,
     "metadata": {},
     "output_type": "execute_result"
    }
   ],
   "source": [
    "X"
   ]
  },
  {
   "cell_type": "code",
   "execution_count": 96,
   "id": "0f565365",
   "metadata": {},
   "outputs": [
    {
     "data": {
      "text/plain": [
       "array([[-0.53632238],\n",
       "       [-0.91561247],\n",
       "       [ 0.60154789],\n",
       "       [-0.45647183],\n",
       "       [-1.25497729],\n",
       "       [-1.51449156],\n",
       "       [ 0.16236989],\n",
       "       [ 0.74128635],\n",
       "       [ 0.28214571],\n",
       "       [ 0.8810248 ],\n",
       "       [ 1.3202028 ],\n",
       "       [ 1.55975444],\n",
       "       [-1.0952762 ],\n",
       "       [-1.11523883],\n",
       "       [-0.73594874],\n",
       "       [ 0.2222578 ],\n",
       "       [-1.69415529],\n",
       "       [-1.23501465],\n",
       "       [-0.23688283],\n",
       "       [ 0.76124898],\n",
       "       [ 0.24222044],\n",
       "       [ 0.56162262],\n",
       "       [ 1.28027753],\n",
       "       [ 1.49986653],\n",
       "       [-1.17512674],\n",
       "       [-1.55441683],\n",
       "       [-1.13520147],\n",
       "       [-0.17699493],\n",
       "       [-1.07531356],\n",
       "       [-1.29490256],\n",
       "       [ 0.14240726],\n",
       "       [ 0.02263144],\n",
       "       [-0.47643447],\n",
       "       [ 0.84109953],\n",
       "       [ 1.16050171],\n",
       "       [ 1.47990389],\n",
       "       [-0.81579929],\n",
       "       [-0.71598611],\n",
       "       [ 0.34203362],\n",
       "       [-1.5344542 ],\n",
       "       [-1.59434211],\n",
       "       [-1.65423002],\n",
       "       [-0.8756872 ],\n",
       "       [ 0.58158526],\n",
       "       [ 0.50173471],\n",
       "       [ 0.80117426],\n",
       "       [ 1.14053907],\n",
       "       [ 1.51982916],\n",
       "       [-0.81579929],\n",
       "       [-1.33482783],\n",
       "       [ 0.42188416],\n",
       "       [-0.19695756],\n",
       "       [-0.97550038],\n",
       "       [-1.39471574],\n",
       "       [-0.89564983],\n",
       "       [ 1.04072589],\n",
       "       [-0.33669602],\n",
       "       [ 0.78121162],\n",
       "       [ 1.38009071],\n",
       "       [ 1.57971707],\n",
       "       [-0.29677074],\n",
       "       [-0.55628502],\n",
       "       [-0.13706965],\n",
       "       [-0.93557511],\n",
       "       [ 0.0026688 ],\n",
       "       [-1.49452892],\n",
       "       [-0.69602347],\n",
       "       [ 0.82113689],\n",
       "       [-0.29677074],\n",
       "       [ 1.20042698],\n",
       "       [ 1.42001598],\n",
       "       [ 1.59967971],\n",
       "       [-0.83576193],\n",
       "       [-1.11523883],\n",
       "       [-0.95553774],\n",
       "       [-0.85572456],\n",
       "       [-0.31673338],\n",
       "       [-1.41467838],\n",
       "       [ 0.86106216],\n",
       "       [ 1.08065116],\n",
       "       [-1.01542565],\n",
       "       [ 0.64147316],\n",
       "       [ 1.30024016],\n",
       "       [ 1.61964235],\n",
       "       [-1.47456629],\n",
       "       [-1.3148652 ],\n",
       "       [-1.03538829],\n",
       "       [ 0.12244462],\n",
       "       [-1.13520147],\n",
       "       [-1.63426738],\n",
       "       [-0.11710702],\n",
       "       [ 0.10248198],\n",
       "       [ 0.92095007],\n",
       "       [ 1.00080062],\n",
       "       [ 1.43997862],\n",
       "       [ 1.77934344],\n",
       "       [-0.09714438],\n",
       "       [-0.25684547],\n",
       "       [ 0.46180944],\n",
       "       [ 0.62151053],\n",
       "       [-0.39658393],\n",
       "       [-0.63613556],\n",
       "       [ 0.54165998],\n",
       "       [-0.69602347],\n",
       "       [ 0.70136107],\n",
       "       [ 1.24035226],\n",
       "       [ 1.5397918 ],\n",
       "       [ 1.7593808 ],\n",
       "       [-0.35665865],\n",
       "       [-1.45460365],\n",
       "       [ 0.26218307],\n",
       "       [-0.67606083],\n",
       "       [-0.6560982 ],\n",
       "       [-1.37475311],\n",
       "       [ 0.20229517],\n",
       "       [ 0.18233253],\n",
       "       [ 0.90098744],\n",
       "       [ 1.26031489],\n",
       "       [ 1.45994126],\n",
       "       [ 1.73941816],\n",
       "       [-0.4365092 ],\n",
       "       [-1.57437947],\n",
       "       [-0.05721911],\n",
       "       [-0.75591138],\n",
       "       [-0.79583665],\n",
       "       [-1.27493992],\n",
       "       [ 0.06255671],\n",
       "       [-0.85572456],\n",
       "       [ 0.72132371],\n",
       "       [ 1.02076326],\n",
       "       [ 1.40005335],\n",
       "       [ 1.65956762],\n",
       "       [ 0.08251935],\n",
       "       [ 0.40192153],\n",
       "       [-0.01729383],\n",
       "       [-1.61430474],\n",
       "       [-1.35479047],\n",
       "       [-1.05535092],\n",
       "       [ 0.52169735],\n",
       "       [-0.07718174],\n",
       "       [ 0.68139844],\n",
       "       [ 1.06068853],\n",
       "       [ 1.18046435],\n",
       "       [ 1.69949289],\n",
       "       [-0.95553774],\n",
       "       [-0.61617293],\n",
       "       [ 0.30210835],\n",
       "       [ 0.32207098],\n",
       "       [-0.2169202 ],\n",
       "       [-0.77587402],\n",
       "       [ 0.4418468 ],\n",
       "       [-0.27680811],\n",
       "       [ 0.6614358 ],\n",
       "       [ 0.98083798],\n",
       "       [ 1.34016544],\n",
       "       [ 1.67953026],\n",
       "       [-1.21505202],\n",
       "       [-0.99546302],\n",
       "       [ 0.04259407],\n",
       "       [ 0.48177207],\n",
       "       [-0.15703229],\n",
       "       [-1.15516411],\n",
       "       [ 0.38195889],\n",
       "       [ 0.94091271],\n",
       "       [-0.37662129],\n",
       "       [ 1.1006138 ],\n",
       "       [ 1.36012807],\n",
       "       [ 1.71945553],\n",
       "       [-1.67419265],\n",
       "       [ 0.18233253],\n",
       "       [-0.4365092 ],\n",
       "       [-0.41654656],\n",
       "       [-0.57624765],\n",
       "       [-0.49639711],\n",
       "       [ 0.36199626],\n",
       "       [-1.19508938],\n",
       "       [ 0.96087535],\n",
       "       [ 1.12057644],\n",
       "       [ 1.22038962],\n",
       "       [ 1.63960498],\n",
       "       [-1.71411792],\n",
       "       [-1.43464102],\n",
       "       [ 0.02263144],\n",
       "       [-0.03725647],\n",
       "       [-0.59621029],\n",
       "       [-0.51635974],\n",
       "       [ 0.36199626]])"
      ]
     },
     "execution_count": 96,
     "metadata": {},
     "output_type": "execute_result"
    }
   ],
   "source": [
    "from sklearn.preprocessing import StandardScaler\n",
    "X = StandardScaler().fit_transform(X)\n",
    "X"
   ]
  },
  {
   "cell_type": "code",
   "execution_count": 97,
   "id": "12db3d0d",
   "metadata": {},
   "outputs": [],
   "source": [
    "#RANDOM FOREST REGRESSOR\n",
    "from sklearn.model_selection import train_test_split,cross_val_score\n",
    "df_train,df_test,Y_train,Y_test = train_test_split(X,Y, test_size=0.2, random_state=0)"
   ]
  },
  {
   "cell_type": "code",
   "execution_count": 98,
   "id": "74d656ed",
   "metadata": {},
   "outputs": [
    {
     "data": {
      "text/plain": [
       "RandomForestRegressor()"
      ]
     },
     "execution_count": 98,
     "metadata": {},
     "output_type": "execute_result"
    }
   ],
   "source": [
    "from sklearn.ensemble import RandomForestRegressor\n",
    "model = RandomForestRegressor()\n",
    "model.fit(X_train,Y_train)"
   ]
  },
  {
   "cell_type": "code",
   "execution_count": 102,
   "id": "b6c31841",
   "metadata": {},
   "outputs": [],
   "source": [
    "Y_pred = model.predict(X_test)"
   ]
  },
  {
   "cell_type": "code",
   "execution_count": 103,
   "id": "97abe946",
   "metadata": {},
   "outputs": [
    {
     "data": {
      "text/plain": [
       "(-4.450000000000001, 181.45, 23.1645, 209.06449999999998)"
      ]
     },
     "execution_count": 103,
     "metadata": {},
     "output_type": "execute_result"
    },
    {
     "data": {
      "image/png": "[encoded data removed]",
      "text/plain": [
       "<Figure size 432x288 with 1 Axes>"
      ]
     },
     "metadata": {},
     "output_type": "display_data"
    }
   ],
   "source": [
    "g=plt.scatter(Y_test, Y_pred)\n",
    "g.axes.set_xlabel('True Values ')\n",
    "g.axes.set_ylabel('Predictions ')\n",
    "g.axes.axis('equal')\n",
    "g.axes.axis('square')"
   ]
  },
  {
   "cell_type": "code",
   "execution_count": 104,
   "id": "e80f759c",
   "metadata": {},
   "outputs": [
    {
     "data": {
      "text/plain": [
       "array([120.44      ,  58.39      , 140.31      ,  97.03      ,\n",
       "       142.84      , 148.76      , 108.02      ,  29.2       ,\n",
       "        51.61      ,  96.63      ,  45.32      ,  69.65      ,\n",
       "       109.48      ,  57.3       , 136.63      , 129.86      ,\n",
       "        48.977     ,  59.84      ,  73.99      , 117.15      ,\n",
       "       134.38      ,  68.81      ,  97.99666667, 149.91      ,\n",
       "        45.88      ,  88.738     ,  37.27      ,  88.90733333,\n",
       "       139.52904762,  62.53      ,  92.44      ,  58.40366667,\n",
       "       145.73      , 141.22      , 118.11      ,  99.25      ,\n",
       "       119.99      ,  42.35      ])"
      ]
     },
     "execution_count": 104,
     "metadata": {},
     "output_type": "execute_result"
    }
   ],
   "source": [
    "Y_pred"
   ]
  },
  {
   "cell_type": "code",
   "execution_count": 106,
   "id": "7e7f1297",
   "metadata": {},
   "outputs": [
    {
     "data": {
      "text/plain": [
       "GaussianNB()"
      ]
     },
     "execution_count": 106,
     "metadata": {},
     "output_type": "execute_result"
    }
   ],
   "source": [
    "#NAIVE BAYES\n",
    "from sklearn.naive_bayes import GaussianNB\n",
    "model2 = GaussianNB()\n",
    "model2.fit(X_train,Y_train)"
   ]
  },
  {
   "cell_type": "code",
   "execution_count": 116,
   "id": "b7de743b",
   "metadata": {},
   "outputs": [
    {
     "data": {
      "text/plain": [
       "0.9395973154362416"
      ]
     },
     "execution_count": 116,
     "metadata": {},
     "output_type": "execute_result"
    }
   ],
   "source": [
    "model2.score(X_train,Y_train)"
   ]
  },
  {
   "cell_type": "code",
   "execution_count": 117,
   "id": "26fb2719",
   "metadata": {},
   "outputs": [
    {
     "data": {
      "text/plain": [
       "array([ 95,  57, 138,   1, 183, 179,  97,  20,  17,  19,  39,   9,  10,\n",
       "        59, 164, 150,  14,  70,  40, 144, 129,  58,  76, 129,  16, 124,\n",
       "        35,  66, 100,  78,  17,  14,  92,   0, 138,  88, 185,  28],\n",
       "      dtype=int64)"
      ]
     },
     "execution_count": 117,
     "metadata": {},
     "output_type": "execute_result"
    }
   ],
   "source": [
    "model2.predict(X_test)"
   ]
  },
  {
   "cell_type": "code",
   "execution_count": 118,
   "id": "b17e8d5a",
   "metadata": {},
   "outputs": [
    {
     "data": {
      "text/plain": [
       "array([ 95,  57, 138,   1, 183, 179,  97,  20,  17,  19,  39,   9,  10,\n",
       "        59, 164, 150,  14,  70,  40, 144, 129,  58,  76, 129,  16, 124,\n",
       "        35,  66, 100,  78,  17,  14,  92,   0, 138,  88, 185,  28],\n",
       "      dtype=int64)"
      ]
     },
     "execution_count": 118,
     "metadata": {},
     "output_type": "execute_result"
    }
   ],
   "source": [
    "Y_pred2 = model2.predict(X_test)\n",
    "Y_pred2"
   ]
  },
  {
   "cell_type": "code",
   "execution_count": null,
   "id": "07d0e7ee",
   "metadata": {},
   "outputs": [],
   "source": [
    "from sklearn.datasets import make_classification\n",
    "from sklearn.metrics import plot_confusion_matrix\n",
    "from sklearn.model_selection import train_test_split\n",
    "from sklearn.svm import SVC"
   ]
  },
  {
   "cell_type": "code",
   "execution_count": 121,
   "id": "abe6b081",
   "metadata": {},
   "outputs": [
    {
     "name": "stderr",
     "output_type": "stream",
     "text": [
      "E:\\anaconda\\lib\\site-packages\\sklearn\\utils\\deprecation.py:87: FutureWarning: Function plot_confusion_matrix is deprecated; Function `plot_confusion_matrix` is deprecated in 1.0 and will be removed in 1.2. Use one of the class methods: ConfusionMatrixDisplay.from_predictions or ConfusionMatrixDisplay.from_estimator.\n",
      "  warnings.warn(msg, category=FutureWarning)\n"
     ]
    },
    {
     "data": {
      "text/plain": [
       "[]"
      ]
     },
     "execution_count": 121,
     "metadata": {},
     "output_type": "execute_result"
    },
    {
     "data": {
      "image/png": "[encoded data removed]",
      "text/plain": [
       "<Figure size 432x288 with 2 Axes>"
      ]
     },
     "metadata": {},
     "output_type": "display_data"
    }
   ],
   "source": [
    "from sklearn.metrics import plot_confusion_matrix\n",
    "plot_confusion_matrix(model2, X_train,Y_train)\n",
    "plt.plot()"
   ]
  },
  {
   "cell_type": "code",
   "execution_count": 127,
   "id": "3c914b8a",
   "metadata": {},
   "outputs": [
    {
     "data": {
      "text/plain": [
       "LinearRegression()"
      ]
     },
     "execution_count": 127,
     "metadata": {},
     "output_type": "execute_result"
    }
   ],
   "source": [
    "#LINEAR REGRESSION\n",
    "from sklearn.linear_model import LinearRegression\n",
    "model2 = LinearRegression()\n",
    "model2.fit(X_train,Y_train)"
   ]
  },
  {
   "cell_type": "code",
   "execution_count": 129,
   "id": "a09454c7",
   "metadata": {},
   "outputs": [
    {
     "data": {
      "text/plain": [
       "-0.013853688812425213"
      ]
     },
     "execution_count": 129,
     "metadata": {},
     "output_type": "execute_result"
    }
   ],
   "source": [
    "model2.score(X_test,Y_test)"
   ]
  },
  {
   "cell_type": "code",
   "execution_count": 130,
   "id": "bb6ae00c",
   "metadata": {},
   "outputs": [
    {
     "data": {
      "text/plain": [
       "array([104.27799672,  98.02285626,  95.93780944,  86.68541418,\n",
       "        92.41929294, 103.36578874,  91.2464541 ,  94.50433976,\n",
       "        84.86099822,  97.63190998,  82.90626683,  98.67443339,\n",
       "       101.54137277, 103.23547331,  90.46456154,  95.80749402,\n",
       "        88.11888387, 102.1929499 ,  82.25468969,  86.55509876,\n",
       "        99.58664138, 101.93231905,  90.59487697,  99.32601053,\n",
       "        81.86374342,  87.72793759, 102.32326533,  88.37951473,\n",
       "        90.07361527,  98.28348712,  84.60036737,  87.85825302,\n",
       "        98.93506425,  89.16140728,  96.06812487,  85.38225992,\n",
       "        89.55235356,  85.90352163])"
      ]
     },
     "execution_count": 130,
     "metadata": {},
     "output_type": "execute_result"
    }
   ],
   "source": [
    "Y_pred = model2.predict(X_test)\n",
    "Y_pred"
   ]
  },
  {
   "cell_type": "code",
   "execution_count": 147,
   "id": "509f4cd9",
   "metadata": {},
   "outputs": [
    {
     "name": "stdout",
     "output_type": "stream",
     "text": [
      "Root Mean Square Error:\n",
      "\n",
      "107.65001373352167\n"
     ]
    }
   ],
   "source": [
    "MSE = mean_squared_error(X_train, Y_train)\n",
    " \n",
    "RMSE = math.sqrt(MSE)\n",
    "print(\"Root Mean Square Error:\\n\")\n",
    "print(RMSE)"
   ]
  },
  {
   "cell_type": "code",
   "execution_count": 148,
   "id": "3abb77ed",
   "metadata": {},
   "outputs": [
    {
     "name": "stdout",
     "output_type": "stream",
     "text": [
      "Root Mean Square Error:\n",
      "\n",
      "106.84457605347158\n"
     ]
    }
   ],
   "source": [
    "MSE1 = mean_squared_error(X_test, Y_test)\n",
    " \n",
    "RMSE = math.sqrt(MSE)\n",
    "print(\"Root Mean Square Error:\\n\")\n",
    "print(RMSE)"
   ]
  },
  {
   "cell_type": "code",
   "execution_count": 156,
   "id": "39ca1b9d",
   "metadata": {},
   "outputs": [
    {
     "name": "stdout",
     "output_type": "stream",
     "text": [
      "Root Mean Square Error:\n",
      "\n",
      "106.84457605347158\n"
     ]
    }
   ],
   "source": [
    "MSE2 = mean_squared_error(Y_test, Y_pred)\n",
    " \n",
    "RMSE = math.sqrt(MSE)\n",
    "print(\"Root Mean Square Error:\\n\")\n",
    "print(RMSE)"
   ]
  },
  {
   "cell_type": "code",
   "execution_count": 157,
   "id": "9d99305d",
   "metadata": {},
   "outputs": [
    {
     "name": "stdout",
     "output_type": "stream",
     "text": [
      "Root Mean Square Error:\n",
      "\n",
      "106.84457605347158\n"
     ]
    }
   ],
   "source": [
    "MSE2 = mean_squared_error(Y_test, Y_pred2)\n",
    " \n",
    "RMSE = math.sqrt(MSE)\n",
    "print(\"Root Mean Square Error:\\n\")\n",
    "print(RMSE)"
   ]
  },
  {
   "cell_type": "code",
   "execution_count": 149,
   "id": "a8dbfde3",
   "metadata": {},
   "outputs": [],
   "source": [
    "from tabulate import tabulate"
   ]
  },
  {
   "cell_type": "code",
   "execution_count": null,
   "id": "c833660b",
   "metadata": {},
   "outputs": [],
   "source": []
  },
  {
   "cell_type": "code",
   "execution_count": 160,
   "id": "51bdecbd",
   "metadata": {},
   "outputs": [
    {
     "name": "stdout",
     "output_type": "stream",
     "text": [
      "  MSE    MSE1    MSE2\n",
      "-----  ------  ------\n",
      "    0       0      59\n",
      "    1       1      40\n",
      "    2       2     116\n",
      "    3       3      63\n",
      "    4       4      23\n",
      "    5       5      10\n",
      "    6       6      94\n",
      "    7       7     123\n",
      "    8       8     100\n",
      "    9       9     130\n",
      "   10      10     152\n",
      "   11      11     164\n",
      "   12      12      31\n",
      "   13      13      30\n",
      "   14      14      49\n",
      "   15      15      97\n",
      "   16      16       1\n",
      "   17      17      24\n",
      "   18      18      74\n",
      "   19      19     124\n",
      "   20      20      98\n",
      "   21      21     114\n",
      "   22      22     150\n",
      "   23      23     161\n",
      "   24      24      27\n",
      "   25      25       8\n",
      "   26      26      29\n",
      "   27      27      77\n",
      "   28      28      32\n",
      "   29      29      21\n",
      "   30      30      93\n",
      "   31      31      87\n",
      "   32      32      62\n",
      "   33      33     128\n",
      "   34      34     144\n",
      "   35      35     160\n",
      "   36      36      45\n",
      "   37      37      50\n",
      "   38      38     103\n",
      "   39      39       9\n",
      "   40      40       6\n",
      "   41      41       3\n",
      "   42      42      42\n",
      "   43      43     115\n",
      "   44      44     111\n",
      "   45      45     126\n",
      "   46      46     143\n",
      "   47      47     162\n",
      "   48      48      45\n",
      "   49      49      19\n",
      "   50      50     107\n",
      "   51      51      76\n",
      "   52      52      37\n",
      "   53      53      16\n",
      "   54      54      41\n",
      "   55      55     138\n",
      "   56      56      69\n",
      "   57      57     125\n",
      "   58      58     155\n",
      "   59      59     165\n",
      "   60      60      71\n",
      "   61      61      58\n",
      "   62      62      79\n",
      "   63      63      39\n",
      "   64      64      86\n",
      "   65      65      11\n",
      "   66      66      51\n",
      "   67      67     127\n",
      "   68      68      71\n",
      "   69      69     146\n",
      "   70      70     157\n",
      "   71      71     166\n",
      "   72      72      44\n",
      "   73      73      30\n",
      "   74      74      38\n",
      "   75      75      43\n",
      "   76      76      70\n",
      "   77      77      15\n",
      "   78      78     129\n",
      "   79      79     140\n",
      "   80      80      35\n",
      "   81      81     118\n",
      "   82      82     151\n",
      "   83      83     167\n",
      "   84      84      12\n",
      "   85      85      20\n",
      "   86      86      34\n",
      "   87      87      92\n",
      "   88      88      29\n",
      "   89      89       4\n",
      "   90      90      80\n",
      "   91      91      91\n",
      "   92      92     132\n",
      "   93      93     136\n",
      "   94      94     158\n",
      "   95      95     175\n",
      "   96      96      81\n",
      "   97      97      73\n",
      "   98      98     109\n",
      "   99      99     117\n",
      "  100     100      66\n",
      "  101     101      54\n",
      "  102     102     113\n",
      "  103     103      51\n",
      "  104     104     121\n",
      "  105     105     148\n",
      "  106     106     163\n",
      "  107     107     174\n",
      "  108     108      68\n",
      "  109     109      13\n",
      "  110     110      99\n",
      "  111     111      52\n",
      "  112     112      53\n",
      "  113     113      17\n",
      "  114     114      96\n",
      "  115     115      95\n",
      "  116     116     131\n",
      "  117     117     149\n",
      "  118     118     159\n",
      "  119     119     173\n",
      "  120     120      64\n",
      "  121     121       7\n",
      "  122     122      83\n",
      "  123     123      48\n",
      "  124     124      46\n",
      "  125     125      22\n",
      "  126     126      89\n",
      "  127     127      43\n",
      "  128     128     122\n",
      "  129     129     137\n",
      "  130     130     156\n",
      "  131     131     169\n",
      "  132     132      90\n",
      "  133     133     106\n",
      "  134     134      85\n",
      "  135     135       5\n",
      "  136     136      18\n",
      "  137     137      33\n",
      "  138     138     112\n",
      "  139     139      82\n",
      "  140     140     120\n",
      "  141     141     139\n",
      "  142     142     145\n",
      "  143     143     171\n",
      "  144     144      38\n",
      "  145     145      55\n",
      "  146     146     101\n",
      "  147     147     102\n",
      "  148     148      75\n",
      "  149     149      47\n",
      "  150     150     108\n",
      "  151     151      72\n",
      "  152     152     119\n",
      "  153     153     135\n",
      "  154     154     153\n",
      "  155     155     170\n",
      "  156     156      25\n",
      "  157     157      36\n",
      "  158     158      88\n",
      "  159     159     110\n",
      "  160     160      78\n",
      "  161     161      28\n",
      "  162     162     105\n",
      "  163     163     133\n",
      "  164     164      67\n",
      "  165     165     141\n",
      "  166     166     154\n",
      "  167     167     172\n",
      "  168     168       2\n",
      "  169     169      95\n",
      "  170     170      64\n",
      "  171     171      65\n",
      "  172     172      57\n",
      "  173     173      61\n",
      "  174     174     104\n",
      "  175     175      26\n",
      "  176     176     134\n",
      "  177     177     142\n",
      "  178     178     147\n",
      "  179     179     168\n",
      "  180     180       0\n",
      "  181     181      14\n",
      "  182     182      87\n",
      "  183     183      84\n",
      "  184     184      56\n",
      "  185     185      60\n",
      "  186     186     104\n"
     ]
    }
   ],
   "source": [
    "#define header names\n",
    "col_names = [\"MSE\", \"MSE1\",\"MSE2\"]\n",
    "  \n",
    "#display table\n",
    "print(tabulate(df, headers=col_names))"
   ]
  },
  {
   "cell_type": "code",
   "execution_count": 173,
   "id": "e5c6613b",
   "metadata": {},
   "outputs": [
    {
     "name": "stdout",
     "output_type": "stream",
     "text": [
      "92.79281736741613\n",
      "[6.52796674]\n",
      "     YearMonth  Sparkling\n",
      "0            0         59\n",
      "1            1         40\n",
      "2            2        116\n",
      "3            3         63\n",
      "4            4         23\n",
      "..         ...        ...\n",
      "182        182         87\n",
      "183        183         84\n",
      "184        184         56\n",
      "185        185         60\n",
      "186        186        104\n",
      "\n",
      "[187 rows x 2 columns]\n"
     ]
    },
    {
     "data": {
      "image/png": "[encoded data removed]",
      "text/plain": [
       "<Figure size 1152x720 with 1 Axes>"
      ]
     },
     "metadata": {},
     "output_type": "display_data"
    },
    {
     "data": {
      "image/png": "[encoded data removed]",
      "text/plain": [
       "<Figure size 432x288 with 1 Axes>"
      ]
     },
     "metadata": {},
     "output_type": "display_data"
    }
   ],
   "source": [
    "regressor = LinearRegression()  \n",
    "regressor.fit(X_train, Y_train) \n",
    "#To retrieve the intercept:\n",
    "print(regressor.intercept_)\n",
    "#For retrieving the slope:\n",
    "print(regressor.coef_)\n",
    "y_pred = regressor.predict(X_test)\n",
    "#df = pd.DataFrame({'Actual': Y_test.values.flatten(), 'Predicted': Y_pred.values.flatten()})\n",
    "#df\n",
    "\n",
    "print(df)\n",
    "\n",
    "df1 = df.head(25)\n",
    "df1.plot(kind='bar',figsize=(16,10))\n",
    "plt.grid(which='major', linestyle='-', linewidth='0.5', color='green')\n",
    "plt.grid(which='minor', linestyle=':', linewidth='0.5', color='black')\n",
    "plt.show()\n",
    "\n",
    "plt.scatter(X_test, Y_test,  color='blue')\n",
    "plt.plot(X_test, Y_pred, color='red', linewidth=2)\n",
    "plt.show()\n",
    "\n"
   ]
  },
  {
   "cell_type": "code",
   "execution_count": 174,
   "id": "6bd1e987",
   "metadata": {},
   "outputs": [
    {
     "name": "stdout",
     "output_type": "stream",
     "text": [
      "    YearMonth  Sparkling\n",
      "0           0         59\n",
      "1           1         40\n",
      "2           2        116\n",
      "3           3         63\n",
      "4           4         23\n",
      "5           5         10\n",
      "6           6         94\n",
      "7           7        123\n",
      "8           8        100\n",
      "9           9        130\n",
      "10         10        152\n",
      "11         11        164\n",
      "12         12         31\n",
      "13         13         30\n",
      "14         14         49\n",
      "15         15         97\n",
      "16         16          1\n",
      "17         17         24\n",
      "18         18         74\n",
      "19         19        124\n",
      "20         20         98\n",
      "21         21        114\n",
      "22         22        150\n",
      "23         23        161\n",
      "24         24         27\n"
     ]
    }
   ],
   "source": [
    "print(df1)"
   ]
  },
  {
   "cell_type": "code",
   "execution_count": 10,
   "id": "49bcc4a7",
   "metadata": {},
   "outputs": [
    {
     "ename": "NameError",
     "evalue": "name 'Y_pred' is not defined",
     "output_type": "error",
     "traceback": [
      "\u001b[1;31m---------------------------------------------------------------------------\u001b[0m",
      "\u001b[1;31mNameError\u001b[0m                                 Traceback (most recent call last)",
      "Input \u001b[1;32mIn [10]\u001b[0m, in \u001b[0;36m<cell line: 1>\u001b[1;34m()\u001b[0m\n\u001b[1;32m----> 1\u001b[0m \u001b[43mY_pred\u001b[49m\n",
      "\u001b[1;31mNameError\u001b[0m: name 'Y_pred' is not defined"
     ]
    }
   ],
   "source": [
    "Y_pred\n"
   ]
  },
  {
   "cell_type": "code",
   "execution_count": null,
   "id": "50f79b95",
   "metadata": {},
   "outputs": [],
   "source": []
  },
  {
   "cell_type": "code",
   "execution_count": null,
   "id": "9c9c0de0",
   "metadata": {},
   "outputs": [],
   "source": []
  }
 ],
 "metadata": {
  "kernelspec": {
   "display_name": "Python 3 (ipykernel)",
   "language": "python",
   "name": "python3"
  },
  "language_info": {
   "codemirror_mode": {
    "name": "ipython",
    "version": 3
   },
   "file_extension": ".py",
   "mimetype": "text/x-python",
   "name": "python",
   "nbconvert_exporter": "python",
   "pygments_lexer": "ipython3",
   "version": "3.9.12"
  }
 },
 "nbformat": 4,
 "nbformat_minor": 5
}
